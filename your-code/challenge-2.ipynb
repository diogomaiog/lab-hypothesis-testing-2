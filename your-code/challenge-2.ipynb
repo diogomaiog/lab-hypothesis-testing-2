{
 "cells": [
  {
   "cell_type": "markdown",
   "metadata": {},
   "source": [
    "# Challenge 2 - ANOVA\n",
    "\n",
    "In statistics, **Analysis of Variance (ANOVA)** is also used to analyze the differences among group means. The difference between t-test and ANOVA is the former is ued to compare two groups whereas the latter is used to compare three or more groups. [Read more about the difference between t-test and ANOVA](http://b.link/anova24).\n",
    "\n",
    "From the ANOVA test, you receive two numbers. The first number is called the **F-value** which indicates whether your null-hypothesis can be rejected. The critical F-value that rejects the null-hypothesis varies according to the number of total subjects and the number of subject groups in your experiment. In [this table](http://b.link/eda14) you can find the critical values of the F distribution. **If you are confused by the massive F-distribution table, don't worry. Skip F-value for now and study it at a later time. In this challenge you only need to look at the p-value.**\n",
    "\n",
    "The p-value is another number yielded by ANOVA which already takes the number of total subjects and the number of experiment groups into consideration. **Typically if your p-value is less than 0.05, you can declare the null-hypothesis is rejected.**\n",
    "\n",
    "In this challenge, we want to understand whether there are significant differences among various types of pokemons' `Total` value, i.e. Grass vs Poison vs Fire vs Dragon... There are many types of pokemons which makes it a perfect use case for ANOVA."
   ]
  },
  {
   "cell_type": "code",
   "execution_count": 40,
   "metadata": {},
   "outputs": [],
   "source": [
    "# Import libraries\n",
    "import pandas as pd\n",
    "import scipy.stats as st"
   ]
  },
  {
   "cell_type": "code",
   "execution_count": 4,
   "metadata": {},
   "outputs": [
    {
     "data": {
      "text/html": [
       "<div>\n",
       "<style scoped>\n",
       "    .dataframe tbody tr th:only-of-type {\n",
       "        vertical-align: middle;\n",
       "    }\n",
       "\n",
       "    .dataframe tbody tr th {\n",
       "        vertical-align: top;\n",
       "    }\n",
       "\n",
       "    .dataframe thead th {\n",
       "        text-align: right;\n",
       "    }\n",
       "</style>\n",
       "<table border=\"1\" class=\"dataframe\">\n",
       "  <thead>\n",
       "    <tr style=\"text-align: right;\">\n",
       "      <th></th>\n",
       "      <th>#</th>\n",
       "      <th>Name</th>\n",
       "      <th>Type 1</th>\n",
       "      <th>Type 2</th>\n",
       "      <th>Total</th>\n",
       "      <th>HP</th>\n",
       "      <th>Attack</th>\n",
       "      <th>Defense</th>\n",
       "      <th>Sp. Atk</th>\n",
       "      <th>Sp. Def</th>\n",
       "      <th>Speed</th>\n",
       "      <th>Generation</th>\n",
       "      <th>Legendary</th>\n",
       "    </tr>\n",
       "  </thead>\n",
       "  <tbody>\n",
       "    <tr>\n",
       "      <th>0</th>\n",
       "      <td>1</td>\n",
       "      <td>Bulbasaur</td>\n",
       "      <td>Grass</td>\n",
       "      <td>Poison</td>\n",
       "      <td>318</td>\n",
       "      <td>45</td>\n",
       "      <td>49</td>\n",
       "      <td>49</td>\n",
       "      <td>65</td>\n",
       "      <td>65</td>\n",
       "      <td>45</td>\n",
       "      <td>1</td>\n",
       "      <td>False</td>\n",
       "    </tr>\n",
       "    <tr>\n",
       "      <th>1</th>\n",
       "      <td>2</td>\n",
       "      <td>Ivysaur</td>\n",
       "      <td>Grass</td>\n",
       "      <td>Poison</td>\n",
       "      <td>405</td>\n",
       "      <td>60</td>\n",
       "      <td>62</td>\n",
       "      <td>63</td>\n",
       "      <td>80</td>\n",
       "      <td>80</td>\n",
       "      <td>60</td>\n",
       "      <td>1</td>\n",
       "      <td>False</td>\n",
       "    </tr>\n",
       "    <tr>\n",
       "      <th>2</th>\n",
       "      <td>3</td>\n",
       "      <td>Venusaur</td>\n",
       "      <td>Grass</td>\n",
       "      <td>Poison</td>\n",
       "      <td>525</td>\n",
       "      <td>80</td>\n",
       "      <td>82</td>\n",
       "      <td>83</td>\n",
       "      <td>100</td>\n",
       "      <td>100</td>\n",
       "      <td>80</td>\n",
       "      <td>1</td>\n",
       "      <td>False</td>\n",
       "    </tr>\n",
       "    <tr>\n",
       "      <th>3</th>\n",
       "      <td>3</td>\n",
       "      <td>VenusaurMega Venusaur</td>\n",
       "      <td>Grass</td>\n",
       "      <td>Poison</td>\n",
       "      <td>625</td>\n",
       "      <td>80</td>\n",
       "      <td>100</td>\n",
       "      <td>123</td>\n",
       "      <td>122</td>\n",
       "      <td>120</td>\n",
       "      <td>80</td>\n",
       "      <td>1</td>\n",
       "      <td>False</td>\n",
       "    </tr>\n",
       "    <tr>\n",
       "      <th>4</th>\n",
       "      <td>4</td>\n",
       "      <td>Charmander</td>\n",
       "      <td>Fire</td>\n",
       "      <td>NaN</td>\n",
       "      <td>309</td>\n",
       "      <td>39</td>\n",
       "      <td>52</td>\n",
       "      <td>43</td>\n",
       "      <td>60</td>\n",
       "      <td>50</td>\n",
       "      <td>65</td>\n",
       "      <td>1</td>\n",
       "      <td>False</td>\n",
       "    </tr>\n",
       "  </tbody>\n",
       "</table>\n",
       "</div>"
      ],
      "text/plain": [
       "   #                   Name Type 1  Type 2  Total  HP  Attack  Defense  \\\n",
       "0  1              Bulbasaur  Grass  Poison    318  45      49       49   \n",
       "1  2                Ivysaur  Grass  Poison    405  60      62       63   \n",
       "2  3               Venusaur  Grass  Poison    525  80      82       83   \n",
       "3  3  VenusaurMega Venusaur  Grass  Poison    625  80     100      123   \n",
       "4  4             Charmander   Fire     NaN    309  39      52       43   \n",
       "\n",
       "   Sp. Atk  Sp. Def  Speed  Generation  Legendary  \n",
       "0       65       65     45           1      False  \n",
       "1       80       80     60           1      False  \n",
       "2      100      100     80           1      False  \n",
       "3      122      120     80           1      False  \n",
       "4       60       50     65           1      False  "
      ]
     },
     "execution_count": 4,
     "metadata": {},
     "output_type": "execute_result"
    }
   ],
   "source": [
    "# Load the data:\n",
    "df = pd.read_csv('Pokemon.csv')\n",
    "df.head(5)"
   ]
  },
  {
   "cell_type": "markdown",
   "metadata": {},
   "source": [
    "**To achieve our goal, we use three steps:**\n",
    "\n",
    "1. **Extract the unique values of the pokemon types.**\n",
    "\n",
    "1. **Select dataframes for each unique pokemon type.**\n",
    "\n",
    "1. **Conduct ANOVA analysis across the pokemon types.**"
   ]
  },
  {
   "cell_type": "markdown",
   "metadata": {},
   "source": [
    "#### First let's obtain the unique values of the pokemon types. These values should be extracted from Type 1 and Type 2 aggregated. Assign the unique values to a variable called `unique_types`.\n",
    "\n",
    "*Hint: the correct number of unique types is 19 including `NaN`. You can disregard `NaN` in next step.*"
   ]
  },
  {
   "cell_type": "code",
   "execution_count": 27,
   "metadata": {},
   "outputs": [
    {
     "name": "stdout",
     "output_type": "stream",
     "text": [
      "['Electric', nan, 'Dragon', 'Ice', 'Bug', 'Fighting', 'Fairy', 'Dark', 'Poison', 'Flying', 'Grass', 'Ghost', 'Water', 'Psychic', 'Normal', 'Rock', 'Ground', 'Fire', 'Steel']\n"
     ]
    },
    {
     "data": {
      "text/plain": [
       "19"
      ]
     },
     "execution_count": 27,
     "metadata": {},
     "output_type": "execute_result"
    }
   ],
   "source": [
    "# Your code here\n",
    "unique_types = list(set(list(df['Type 1'].unique()) + list(df['Type 2'].unique())))\n",
    "#unique_types.append(list(df['Type 2'].unique()))\n",
    "print(unique_types)\n",
    "len(unique_types) # you should see 19"
   ]
  },
  {
   "cell_type": "markdown",
   "metadata": {},
   "source": [
    "#### Second we will create a list named `pokemon_totals` to contain the `Total` values of each unique type of pokemons.\n",
    "\n",
    "Why we use a list instead of a dictionary to store the pokemon `Total`? It's because ANOVA only tells us whether there is a significant difference of the group means but does not tell which group(s) are significantly different. Therefore, we don't need know which `Total` belongs to which pokemon type.\n",
    "\n",
    "*Hints:*\n",
    "\n",
    "* Loop through `unique_types` and append the selected type's `Total` to `pokemon_groups`.\n",
    "* Skip the `NaN` value in `unique_types`. `NaN` is a `float` variable which you can find out by using `type()`. The valid pokemon type values are all of the `str` type.\n",
    "* At the end, the length of your `pokemon_totals` should be 18."
   ]
  },
  {
   "cell_type": "code",
   "execution_count": 45,
   "metadata": {},
   "outputs": [
    {
     "name": "stdout",
     "output_type": "stream",
     "text": [
      "[22242, 27088, 17763, 27326, 24916, 16637, 23506, 24657, 45837, 39703, 20096, 54066, 42938, 41011, 26050, 29552, 29895, 23843]\n"
     ]
    },
    {
     "data": {
      "text/plain": [
       "18"
      ]
     },
     "execution_count": 45,
     "metadata": {},
     "output_type": "execute_result"
    }
   ],
   "source": [
    "pokemon_totals = []\n",
    "\n",
    "for ptype in unique_types:\n",
    "    \n",
    "    if ptype == ptype: #checking if not NaN\n",
    "        pokemon_totals.append(df.loc[df['Type 1'] == ptype,'Total'].sum() + df.loc[df['Type 2'] == ptype,'Total'].sum())\n",
    "\n",
    "print(pokemon_totals)\n",
    "len(pokemon_totals) # you should see 18"
   ]
  },
  {
   "cell_type": "code",
   "execution_count": 58,
   "metadata": {},
   "outputs": [
    {
     "name": "stdout",
     "output_type": "stream",
     "text": [
      "[[320, 485, 325, 465, 330, 480, 490, 525, 580, 205, 280, 365, 510, 610, 360, 580, 295, 475, 575, 405, 405, 263, 363, 523, 405, 535, 540, 440, 520, 520, 520, 520, 520, 295, 497, 428, 275, 405, 515, 580, 580, 289, 481, 431, 330, 460, 319, 472, 471, 680], [300, 420, 600, 490, 590, 300, 420, 600, 700, 600, 700, 600, 700, 680, 780, 300, 410, 600, 700, 320, 410, 540, 485, 680, 680, 660, 700, 700, 300, 452, 600, 600, 634, 610, 540, 630, 340, 520, 680, 680, 680, 680, 300, 420, 600, 494, 362, 521, 245, 535], [455, 580, 250, 450, 330, 305, 300, 480, 580, 290, 410, 530, 580, 525, 530, 480, 305, 395, 535, 305, 485, 485, 304, 514, 475, 525, 535, 430, 334, 494, 594, 510, 520, 660, 700, 700, 362, 521], [195, 205, 395, 195, 205, 395, 495, 285, 405, 305, 450, 500, 500, 600, 265, 390, 250, 390, 390, 290, 465, 500, 600, 505, 500, 600, 195, 205, 395, 205, 385, 269, 414, 266, 456, 236, 400, 400, 194, 384, 224, 424, 424, 424, 424, 244, 474, 515, 310, 380, 500, 260, 360, 485, 325, 475, 315, 495, 319, 472, 305, 495, 484, 360, 550, 600, 200, 213, 411, 355, 495, 330], [305, 455, 305, 405, 505, 455, 455, 210, 455, 237, 474, 280, 410, 510, 285, 525, 625, 305, 405, 505, 465, 465, 350, 510, 348, 495, 500, 510, 780, 500, 600, 405, 530, 630, 460, 405, 534, 580, 300, 490, 518, 618, 418, 528, 348, 488, 580, 580, 580, 580, 580, 600, 530], [323, 483, 218, 245, 405, 300, 450, 545, 303, 371, 552, 341, 462, 341, 480, 525, 680, 270, 435, 460, 210, 250, 420, 198, 278, 518, 618, 190, 380, 480, 590, 310, 545, 280, 480, 431, 500, 470, 600, 700], [525, 405, 430, 330, 500, 600, 220, 420, 380, 480, 465, 565, 505, 510, 600, 281, 446, 348, 488, 330, 510, 340, 490, 370, 510, 300, 420, 600, 288, 482, 680, 640, 600, 700, 340, 480, 305, 460, 560, 475, 468, 329, 479, 485, 500, 292, 351, 519, 530, 495, 680], [288, 438, 275, 365, 505, 273, 365, 505, 245, 455, 325, 500, 340, 490, 535, 302, 467, 458, 329, 479, 330, 500, 300, 490, 329, 474, 320, 494, 318, 405, 525, 625, 195, 205, 395, 495, 320, 395, 490, 305, 450, 300, 390, 490, 335, 515, 310, 405, 500, 600, 250, 390, 430, 385, 400, 280, 515, 260, 360, 485, 294, 464], [580, 580, 245, 535, 534, 634, 395, 251, 349, 479, 579, 262, 442, 245, 455, 352, 310, 460, 500, 600, 540, 515, 615, 580, 580, 580, 600, 262, 442, 265, 390, 535, 405, 320, 470, 250, 340, 460, 390, 405, 430, 330, 465, 465, 680, 680, 395, 270, 430, 270, 430, 414, 456, 310, 490, 460, 600, 700, 680, 780, 245, 340, 485, 424, 244, 474, 348, 498, 505, 411, 345, 545, 515, 510, 520, 600, 264, 358, 488, 313, 425, 490, 401, 567, 305, 473, 428, 350, 510, 370, 510, 580, 580, 600, 600, 278, 382, 499, 411, 500, 680], [318, 405, 525, 625, 320, 395, 490, 300, 390, 490, 325, 520, 435, 318, 405, 525, 490, 250, 340, 460, 180, 425, 310, 405, 530, 630, 220, 340, 480, 295, 460, 400, 335, 475, 460, 318, 405, 525, 280, 515, 275, 450, 454, 334, 494, 594, 535, 525, 600, 600, 308, 413, 528, 316, 498, 280, 480, 280, 480, 461, 294, 464, 305, 489, 580, 313, 405, 530, 350, 531, 285, 405, 600, 220, 340, 480, 355, 495, 424, 520, 310, 380, 500, 335, 475, 309, 474, 335, 335, 335, 335, 494, 494, 494, 494], [310, 405, 500, 600, 435, 295, 455, 555, 295, 455, 348, 498, 495, 485, 525, 680, 680, 303, 483, 275, 370, 520, 309, 474, 335, 335, 335, 335, 494, 494, 494, 494, 236, 380, 480, 480, 440, 335, 480, 303, 483, 325, 448, 520, 520, 600], [314, 405, 530, 630, 320, 500, 300, 385, 510, 335, 515, 315, 490, 590, 325, 475, 305, 525, 325, 475, 295, 440, 320, 450, 340, 520, 200, 540, 640, 535, 525, 314, 405, 530, 330, 460, 250, 420, 500, 210, 430, 490, 430, 380, 300, 480, 465, 540, 580, 310, 405, 535, 635, 220, 340, 480, 270, 430, 305, 460, 560, 400, 500, 288, 468, 308, 468, 200, 540, 345, 485, 485, 485, 330, 670, 770, 314, 405, 530, 330, 495, 325, 475, 330, 460, 345, 680, 480, 600, 308, 413, 528, 316, 498, 294, 384, 509, 460, 355, 495, 305, 473, 335, 480, 470, 580, 580, 314, 405, 530, 330, 500, 355, 495, 355, 495, 269, 290, 410, 530, 410, 520, 306, 500, 320, 600], [310, 400, 500, 590, 328, 483, 460, 680, 780, 780, 600, 320, 470, 525, 336, 405, 680, 600, 198, 278, 518, 618, 330, 470, 425, 260, 600, 600, 600, 600, 285, 310, 518, 618, 580, 580, 580, 600, 600, 292, 487, 313, 425, 490, 290, 390, 490, 290, 370, 490, 335, 485, 355, 466, 466, 600, 680, 315, 490, 590, 325, 520, 520, 455, 490, 455, 305, 280, 410, 510, 440, 440, 300, 500, 300, 420, 600, 700, 600, 700, 600, 700, 600, 300, 500, 540, 600, 534, 288, 482], [251, 349, 479, 579, 253, 413, 262, 442, 270, 435, 290, 440, 352, 310, 460, 385, 450, 490, 590, 490, 288, 325, 395, 540, 215, 415, 262, 442, 210, 360, 455, 415, 330, 500, 515, 465, 250, 490, 540, 240, 420, 270, 430, 280, 440, 670, 240, 360, 490, 190, 260, 380, 360, 310, 458, 420, 440, 245, 340, 485, 250, 410, 482, 350, 480, 580, 310, 452, 220, 411, 390, 515, 535, 670, 720, 255, 420, 275, 370, 500, 264, 358, 488, 445, 545, 300, 470, 335, 475, 490, 350, 510, 600, 600, 237, 423, 278, 472, 369, 507, 289, 481], [300, 390, 495, 385, 355, 495, 355, 495, 515, 615, 410, 300, 410, 600, 700, 375, 440, 440, 355, 495, 355, 495, 580, 350, 495, 350, 495, 290, 525, 280, 390, 515, 401, 567, 580, 306, 500, 362, 521, 362, 521, 500, 600, 700, 345, 485, 505, 410, 380, 330, 430, 530, 485, 535, 325, 475, 355, 495], [300, 450, 265, 405, 320, 425, 345, 485, 430, 330, 500, 290, 340, 520, 300, 500, 670, 770, 330, 525, 535, 510, 328, 508, 292, 351, 519, 471, 303, 483, 600, 600, 505, 505, 300, 390, 495, 385, 210, 430, 510, 610, 250, 450, 300, 410, 405, 535, 635, 266, 305, 460, 560, 288, 468, 525, 424, 475, 300, 410, 600, 700, 530, 384, 509, 423, 600], [309, 405, 534, 634, 634, 299, 505, 350, 555, 410, 500, 495, 525, 580, 309, 405, 534, 250, 410, 365, 580, 680, 310, 405, 530, 630, 305, 460, 560, 470, 309, 405, 534, 540, 600, 308, 418, 528, 316, 498, 315, 480, 540, 484, 307, 409, 534, 382, 499, 369, 507, 600, 330, 500, 600, 770, 520, 600, 275, 370, 520, 360, 550, 680], [510, 610, 465, 380, 480, 330, 430, 530, 630, 300, 420, 600, 700, 580, 600, 300, 500, 680, 300, 440, 520, 580, 325, 448, 520, 520, 470, 325, 465, 465, 500, 600, 530, 350, 495, 424, 525, 625, 535, 525, 600, 508, 495, 305, 489, 340, 490, 484, 600]]\n"
     ]
    },
    {
     "data": {
      "text/plain": [
       "18"
      ]
     },
     "execution_count": 58,
     "metadata": {},
     "output_type": "execute_result"
    }
   ],
   "source": [
    "pokemon_totals = []\n",
    "\n",
    "# Is «append the selected type's Total to pokemon_groups» a typo? I can't understand.\n",
    "# Maybe the output of this step is a list of lists, each of the 18 elements is a list \n",
    "# of all total values for a given type of pokemon (called a pokemon_group)?\n",
    "# let's try that\n",
    "for ptype in unique_types:\n",
    "    if ptype == ptype: #checking if not NaN\n",
    "        \n",
    "        pokemon_totals.append(list(df.loc[df['Type 1'] == ptype,'Total']) + list(df.loc[df['Type 2'] == ptype,'Total']))\n",
    "\n",
    "print(pokemon_totals)\n",
    "\n",
    "# In my code I don't need to define a pokeomn_group... I'm confused\n",
    "\n",
    "len(pokemon_totals) # you should see 18"
   ]
  },
  {
   "cell_type": "markdown",
   "metadata": {},
   "source": [
    "#### Now we run ANOVA test on `pokemon_totals`.\n",
    "\n",
    "*Hints:*\n",
    "\n",
    "* To conduct ANOVA, you can use `scipy.stats.f_oneway()`. Here's the [reference](http://b.link/scipy44).\n",
    "\n",
    "* What if `f_oneway` throws an error because it does not accept `pokemon_totals` as a list? The trick is to add a `*` in front of `pokemon_totals`, e.g. `stats.f_oneway(*pokemon_groups)`. This trick breaks the list and supplies each list item as a parameter for `f_oneway`."
   ]
  },
  {
   "cell_type": "code",
   "execution_count": 59,
   "metadata": {},
   "outputs": [
    {
     "data": {
      "text/plain": [
       "F_onewayResult(statistic=6.6175382960055344, pvalue=2.6457458815984803e-15)"
      ]
     },
     "execution_count": 59,
     "metadata": {},
     "output_type": "execute_result"
    }
   ],
   "source": [
    "# Your code here\n",
    "# «we want to understand whether there are significant differences among various types of pokemons' Total value»\n",
    "# stats.f_oneway(*[list(data[data['Archer']==name].Score) for name in set(data['Archer'])])\n",
    "\n",
    "st.f_oneway(*pokemon_totals)"
   ]
  },
  {
   "cell_type": "markdown",
   "metadata": {},
   "source": [
    "#### Interpret the ANOVA test result. Is the difference significant?"
   ]
  },
  {
   "cell_type": "code",
   "execution_count": null,
   "metadata": {},
   "outputs": [],
   "source": [
    "# Your comment here\n",
    "'''\n",
    "p-value is very small, certainly smaller than 1%, that leads me to conclude that we must reject the null hypothesis, \n",
    "that all means are the same. I must conclude that at least one the the means of 'Total' of a given Type is significantly\n",
    "different from the others.\n",
    "'''"
   ]
  }
 ],
 "metadata": {
  "kernelspec": {
   "display_name": "Python 3",
   "language": "python",
   "name": "python3"
  },
  "language_info": {
   "codemirror_mode": {
    "name": "ipython",
    "version": 3
   },
   "file_extension": ".py",
   "mimetype": "text/x-python",
   "name": "python",
   "nbconvert_exporter": "python",
   "pygments_lexer": "ipython3",
   "version": "3.8.3"
  }
 },
 "nbformat": 4,
 "nbformat_minor": 2
}
